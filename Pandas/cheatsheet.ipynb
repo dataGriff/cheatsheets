{
 "cells": [
  {
   "cell_type": "code",
   "execution_count": 0,
   "metadata": {
    "application/vnd.databricks.v1+cell": {
     "cellMetadata": {},
     "inputWidgets": {},
     "nuid": "4594d3a3-a839-4ca1-b6f6-0f3e62eb1ca5",
     "showTitle": false,
     "title": ""
    }
   },
   "outputs": [],
   "source": [
    "import pandas as pd\n",
    "\n",
    "print(pd.__version__)\n",
    "\n",
    "data = [[\"Crafty Devil\",\"Mike Rayer\", 4.6]\n",
    "        , [\"Tiny Rebel\", \"Stay Puft\", 4.8]\n",
    "        , [\"Flowerhorn\", \"Sprinkles\", 5.2]\n",
    "        , [\"Mad Dog\", \"Barker\", 4.2]]\n",
    "column_names = [\"brewer\", \"beer\", \"strength\"]\n",
    "\n",
    "df = pd.DataFrame(data=data, columns=column_names)\n",
    "df"
   ]
  },
  {
   "cell_type": "code",
   "execution_count": 0,
   "metadata": {
    "application/vnd.databricks.v1+cell": {
     "cellMetadata": {},
     "inputWidgets": {},
     "nuid": "43122c8d-e699-4fba-9464-a9fabd5b7de9",
     "showTitle": false,
     "title": ""
    }
   },
   "outputs": [],
   "source": [
    "df.dtypes"
   ]
  },
  {
   "cell_type": "code",
   "execution_count": 0,
   "metadata": {
    "application/vnd.databricks.v1+cell": {
     "cellMetadata": {},
     "inputWidgets": {},
     "nuid": "563eae44-7eaf-4e9c-8c8a-6effd39041f6",
     "showTitle": false,
     "title": ""
    }
   },
   "outputs": [],
   "source": [
    "df.head(2)"
   ]
  },
  {
   "cell_type": "code",
   "execution_count": 0,
   "metadata": {
    "application/vnd.databricks.v1+cell": {
     "cellMetadata": {},
     "inputWidgets": {},
     "nuid": "c1bd5b4d-70ad-4689-abdf-34a679c3b47e",
     "showTitle": false,
     "title": ""
    }
   },
   "outputs": [],
   "source": [
    "df.tail(2)"
   ]
  },
  {
   "cell_type": "code",
   "execution_count": 0,
   "metadata": {
    "application/vnd.databricks.v1+cell": {
     "cellMetadata": {},
     "inputWidgets": {},
     "nuid": "3edbd881-7884-4cbf-8727-5c4079f8fd8f",
     "showTitle": false,
     "title": ""
    }
   },
   "outputs": [],
   "source": [
    "select_cols = [\"Brewer\",\"Beer\"]\n",
    "df[select_cols]"
   ]
  },
  {
   "cell_type": "code",
   "execution_count": 0,
   "metadata": {
    "application/vnd.databricks.v1+cell": {
     "cellMetadata": {},
     "inputWidgets": {},
     "nuid": "d246dbd6-bc3c-480b-bcf6-6f9a21a5de74",
     "showTitle": false,
     "title": ""
    }
   },
   "outputs": [],
   "source": [
    "df[\"Beer\"][0]"
   ]
  },
  {
   "cell_type": "code",
   "execution_count": 0,
   "metadata": {
    "application/vnd.databricks.v1+cell": {
     "cellMetadata": {},
     "inputWidgets": {},
     "nuid": "4b44c945-e96b-4b05-806c-a5ae2457dee1",
     "showTitle": false,
     "title": ""
    }
   },
   "outputs": [],
   "source": [
    "df[\"maximum_strength\"] = df[\"strength\"] + 0.2\n",
    "df"
   ]
  },
  {
   "cell_type": "code",
   "execution_count": 0,
   "metadata": {
    "application/vnd.databricks.v1+cell": {
     "cellMetadata": {},
     "inputWidgets": {},
     "nuid": "cb026482-16cd-4c57-8cac-b0e2dd410bda",
     "showTitle": false,
     "title": ""
    }
   },
   "outputs": [],
   "source": [
    "ls data"
   ]
  },
  {
   "cell_type": "code",
   "execution_count": 0,
   "metadata": {
    "application/vnd.databricks.v1+cell": {
     "cellMetadata": {},
     "inputWidgets": {},
     "nuid": "96c90417-4545-4a0a-8b26-0be51327c1a2",
     "showTitle": false,
     "title": ""
    }
   },
   "outputs": [],
   "source": [
    "df = pd.read_csv(\"data/pubs/pubs_cardiff.csv\")\n",
    "df.head()"
   ]
  },
  {
   "cell_type": "code",
   "execution_count": 0,
   "metadata": {
    "application/vnd.databricks.v1+cell": {
     "cellMetadata": {},
     "inputWidgets": {},
     "nuid": "538f8571-97b8-4147-9232-76c746e1aa8a",
     "showTitle": false,
     "title": ""
    }
   },
   "outputs": [],
   "source": [
    "df.shape"
   ]
  },
  {
   "cell_type": "code",
   "execution_count": 0,
   "metadata": {
    "application/vnd.databricks.v1+cell": {
     "cellMetadata": {},
     "inputWidgets": {},
     "nuid": "a163bebd-3e08-4105-b7ea-5ab6b067888b",
     "showTitle": false,
     "title": ""
    }
   },
   "outputs": [],
   "source": [
    "df.columns"
   ]
  },
  {
   "cell_type": "code",
   "execution_count": 0,
   "metadata": {
    "application/vnd.databricks.v1+cell": {
     "cellMetadata": {},
     "inputWidgets": {},
     "nuid": "e36b921b-1e1e-468a-a5aa-c9ebaa8fa479",
     "showTitle": false,
     "title": ""
    }
   },
   "outputs": [],
   "source": [
    "df.sum()\n",
    "# df.min()\n",
    "# df.max()\n",
    "# df.count()\n",
    "# df.mean()\n",
    "# df.std()"
   ]
  },
  {
   "cell_type": "code",
   "execution_count": 0,
   "metadata": {
    "application/vnd.databricks.v1+cell": {
     "cellMetadata": {},
     "inputWidgets": {},
     "nuid": "43752784-9e36-4db8-841d-1867a7204c1a",
     "showTitle": false,
     "title": ""
    }
   },
   "outputs": [],
   "source": [
    "df.describe()"
   ]
  },
  {
   "cell_type": "code",
   "execution_count": 0,
   "metadata": {
    "application/vnd.databricks.v1+cell": {
     "cellMetadata": {},
     "inputWidgets": {},
     "nuid": "eda40831-a04a-473b-bcba-945b8c3a51e1",
     "showTitle": false,
     "title": ""
    }
   },
   "outputs": [],
   "source": [
    "df[\"Beers\"].head()"
   ]
  },
  {
   "cell_type": "code",
   "execution_count": 0,
   "metadata": {
    "application/vnd.databricks.v1+cell": {
     "cellMetadata": {},
     "inputWidgets": {},
     "nuid": "b13bfea8-5431-459b-88e2-61fa7176e9a4",
     "showTitle": false,
     "title": ""
    }
   },
   "outputs": [],
   "source": [
    "import datetime\n",
    "\n",
    "df[\"LastViewed\"] = datetime.date(2023, 4, 1)\n",
    "df[\"LastViewed\"].head()"
   ]
  },
  {
   "cell_type": "code",
   "execution_count": 0,
   "metadata": {
    "application/vnd.databricks.v1+cell": {
     "cellMetadata": {},
     "inputWidgets": {},
     "nuid": "6b84d9d7-db69-4862-bab4-3def8846c499",
     "showTitle": false,
     "title": ""
    }
   },
   "outputs": [],
   "source": [
    "df.loc[:5, [\"Name\", \"Location\", \"Beers\"]]"
   ]
  },
  {
   "cell_type": "code",
   "execution_count": 0,
   "metadata": {
    "application/vnd.databricks.v1+cell": {
     "cellMetadata": {},
     "inputWidgets": {},
     "nuid": "ffedb85d-ee2c-4577-9943-057bc55a4ca7",
     "showTitle": false,
     "title": ""
    }
   },
   "outputs": [],
   "source": [
    "df.iloc[0, 0]"
   ]
  },
  {
   "cell_type": "code",
   "execution_count": 0,
   "metadata": {
    "application/vnd.databricks.v1+cell": {
     "cellMetadata": {},
     "inputWidgets": {},
     "nuid": "c5899528-938a-4b39-8a70-ab851b2cd47d",
     "showTitle": false,
     "title": ""
    }
   },
   "outputs": [],
   "source": [
    "df[\"Location\"].value_counts()"
   ]
  },
  {
   "cell_type": "code",
   "execution_count": 0,
   "metadata": {
    "application/vnd.databricks.v1+cell": {
     "cellMetadata": {},
     "inputWidgets": {},
     "nuid": "ead7f6e4-6f0e-41a8-9f6c-05ba6949d19e",
     "showTitle": false,
     "title": ""
    }
   },
   "outputs": [],
   "source": [
    "df = df.drop(\"LastViewed\", axis=1)"
   ]
  },
  {
   "cell_type": "code",
   "execution_count": 0,
   "metadata": {
    "application/vnd.databricks.v1+cell": {
     "cellMetadata": {},
     "inputWidgets": {},
     "nuid": "3e1a1049-f705-4032-81a3-b95cf008cd8c",
     "showTitle": false,
     "title": ""
    }
   },
   "outputs": [],
   "source": [
    "df.sort_values(\"Name\", ascending=False)"
   ]
  },
  {
   "cell_type": "code",
   "execution_count": 0,
   "metadata": {
    "application/vnd.databricks.v1+cell": {
     "cellMetadata": {},
     "inputWidgets": {},
     "nuid": "c4461fb3-645e-4639-a3a7-5cea0c45e15e",
     "showTitle": false,
     "title": ""
    }
   },
   "outputs": [],
   "source": [
    "df[df[\"Location\"] == \"Roath\"]"
   ]
  },
  {
   "cell_type": "code",
   "execution_count": 0,
   "metadata": {
    "application/vnd.databricks.v1+cell": {
     "cellMetadata": {},
     "inputWidgets": {},
     "nuid": "b796b55a-b9c2-44a6-a5e2-af5dce32e138",
     "showTitle": false,
     "title": ""
    }
   },
   "outputs": [],
   "source": [
    "df[(df[\"Location\"] == \"Roath\") & (df[\"Beers\"] > 5)]"
   ]
  },
  {
   "cell_type": "code",
   "execution_count": 0,
   "metadata": {
    "application/vnd.databricks.v1+cell": {
     "cellMetadata": {},
     "inputWidgets": {},
     "nuid": "6dc6ec30-f2b4-4df5-a05a-3464451baad9",
     "showTitle": false,
     "title": ""
    }
   },
   "outputs": [],
   "source": [
    "df.groupby(\"Location\")[\"Name\"].count().sort_values(ascending=False)"
   ]
  },
  {
   "cell_type": "code",
   "execution_count": 0,
   "metadata": {
    "application/vnd.databricks.v1+cell": {
     "cellMetadata": {},
     "inputWidgets": {},
     "nuid": "5d2b43b2-3585-40cd-9298-2375a578fa93",
     "showTitle": false,
     "title": ""
    }
   },
   "outputs": [],
   "source": [
    "df[df[\"Location\"] == \"City Centre\"].groupby(\"Name\")[\"Beers\"].sum().sort_values(ascending=False)"
   ]
  },
  {
   "cell_type": "code",
   "execution_count": 0,
   "metadata": {
    "application/vnd.databricks.v1+cell": {
     "cellMetadata": {},
     "inputWidgets": {},
     "nuid": "f0dac65e-4429-46f9-b9c6-e1b96132bb9d",
     "showTitle": false,
     "title": ""
    }
   },
   "outputs": [],
   "source": [
    "df.isnull().sum()"
   ]
  },
  {
   "cell_type": "code",
   "execution_count": 0,
   "metadata": {
    "application/vnd.databricks.v1+cell": {
     "cellMetadata": {},
     "inputWidgets": {},
     "nuid": "46ab44de-8bda-4da9-b6ca-dbb756457b29",
     "showTitle": false,
     "title": ""
    }
   },
   "outputs": [],
   "source": [
    "df[\"Location\"].unique().shape"
   ]
  },
  {
   "cell_type": "code",
   "execution_count": 0,
   "metadata": {
    "application/vnd.databricks.v1+cell": {
     "cellMetadata": {},
     "inputWidgets": {},
     "nuid": "e8a24069-7205-4473-813c-554d9c375119",
     "showTitle": false,
     "title": ""
    }
   },
   "outputs": [],
   "source": [
    "df[\"Location\"].drop_duplicates()"
   ]
  },
  {
   "cell_type": "code",
   "execution_count": 0,
   "metadata": {
    "application/vnd.databricks.v1+cell": {
     "cellMetadata": {},
     "inputWidgets": {},
     "nuid": "b9601e36-f7b4-4d8a-9043-635d1492939d",
     "showTitle": false,
     "title": ""
    }
   },
   "outputs": [],
   "source": [
    "df.fillna(\"(missing data)\").tail(3)"
   ]
  },
  {
   "cell_type": "code",
   "execution_count": 0,
   "metadata": {
    "application/vnd.databricks.v1+cell": {
     "cellMetadata": {},
     "inputWidgets": {},
     "nuid": "c2c3f035-e5ac-431d-99ae-5c36dac9cee5",
     "showTitle": false,
     "title": ""
    }
   },
   "outputs": [],
   "source": [
    "subset_df = df[df[\"Location\"] == \"City Centre\"]"
   ]
  },
  {
   "cell_type": "code",
   "execution_count": 0,
   "metadata": {
    "application/vnd.databricks.v1+cell": {
     "cellMetadata": {},
     "inputWidgets": {},
     "nuid": "01a43838-df4f-4904-b02b-2798aba04212",
     "showTitle": false,
     "title": ""
    }
   },
   "outputs": [],
   "source": [
    "subset_df.groupby(\"Name\")[\"Beers\"].sum().hist()"
   ]
  },
  {
   "cell_type": "code",
   "execution_count": 0,
   "metadata": {
    "application/vnd.databricks.v1+cell": {
     "cellMetadata": {},
     "inputWidgets": {},
     "nuid": "3a88cf3f-2071-495c-a3aa-5729b7278e97",
     "showTitle": false,
     "title": ""
    }
   },
   "outputs": [],
   "source": [
    "subset_df.groupby(\"Name\")[\"Beers\"].sum().hist(bins=30)"
   ]
  },
  {
   "cell_type": "code",
   "execution_count": 0,
   "metadata": {
    "application/vnd.databricks.v1+cell": {
     "cellMetadata": {},
     "inputWidgets": {},
     "nuid": "29fdfd31-2025-45b0-bb6b-a44eb6acf5bb",
     "showTitle": false,
     "title": ""
    }
   },
   "outputs": [],
   "source": [
    "subset_df.plot.scatter(x=\"Beers\", y=\"Beers\")"
   ]
  },
  {
   "cell_type": "code",
   "execution_count": 0,
   "metadata": {
    "application/vnd.databricks.v1+cell": {
     "cellMetadata": {},
     "inputWidgets": {},
     "nuid": "2fa4c87c-39a3-48c8-967b-674718a5f844",
     "showTitle": false,
     "title": ""
    }
   },
   "outputs": [],
   "source": [
    "subset_df[subset_df[\"Beers\"] < 25].plot.scatter(x=\"Beers\", y=\"Beers\")"
   ]
  },
  {
   "cell_type": "code",
   "execution_count": 0,
   "metadata": {
    "application/vnd.databricks.v1+cell": {
     "cellMetadata": {},
     "inputWidgets": {},
     "nuid": "a57d2813-610c-4e5f-bda2-380e214677dc",
     "showTitle": false,
     "title": ""
    }
   },
   "outputs": [],
   "source": [
    "import glob\n",
    "import datetime\n",
    "\n",
    "path = \"data/drinks\"\n",
    "all_files = glob.glob(path + \"/*.csv\")\n",
    "\n",
    "dfs = []\n",
    "\n",
    "for filename in all_files:\n",
    "  temp_df = pd.read_csv(filename)\n",
    "  temp_df.columns = [c.replace(\"/\", \"_\") for c in temp_df.columns]\n",
    "  temp_df.columns = [c.replace(\" \", \"_\") for c in temp_df.columns]\n",
    "  \n",
    "  file_date = filename.split(\"/\")[-1].replace(\".csv\", \"\").split(\"_\")[-1]\n",
    "  year, month, day = file_date[:4], file_date[4:6], file_date[-2:]\n",
    "  d = datetime.date(int(year), int(month), int(day))\n",
    "  temp_df[\"Date\"] = d\n",
    "\n",
    "  dfs.append(temp_df)\n",
    "  \n",
    "all_days_df = pd.concat(dfs, axis=0, ignore_index=True, sort=False)\n",
    "##all_days_df = all_days_df.drop([\"LastUpdated\"], axis=1)\n",
    "all_days_df.head()"
   ]
  },
  {
   "cell_type": "code",
   "execution_count": 0,
   "metadata": {
    "application/vnd.databricks.v1+cell": {
     "cellMetadata": {},
     "inputWidgets": {},
     "nuid": "3897ea59-6b83-48cc-9d28-ce7385491180",
     "showTitle": false,
     "title": ""
    }
   },
   "outputs": [],
   "source": [
    "all_days_df.groupby(\"Date\")[\"SmashedGlasses\"].sum().plot(title=\"Drinks drunk over time\", rot=45)"
   ]
  },
  {
   "cell_type": "code",
   "execution_count": 0,
   "metadata": {
    "application/vnd.databricks.v1+cell": {
     "cellMetadata": {},
     "inputWidgets": {},
     "nuid": "f21b040b-dea8-4b9a-9f3d-e417c50f76c0",
     "showTitle": false,
     "title": ""
    }
   },
   "outputs": [],
   "source": [
    "all_days_df.groupby(\"Date\")[[\"Drinks\", \"SmashedGlasses\"]].sum().plot(title=\"Drinks drank and glasses smashed\", rot=45)"
   ]
  },
  {
   "cell_type": "code",
   "execution_count": 0,
   "metadata": {
    "application/vnd.databricks.v1+cell": {
     "cellMetadata": {},
     "inputWidgets": {},
     "nuid": "92cc62fa-de09-49c0-a276-9174a246aa9e",
     "showTitle": false,
     "title": ""
    }
   },
   "outputs": [],
   "source": [
    "(all_days_df[(all_days_df[\"Location\"] == \"City Centre\") & (all_days_df[\"Date\"] >= datetime.date(2023,4,27))]\n",
    "  .groupby(\"Date\")[[\"Drinks\", \"SmashedGlasses\"]]\n",
    "  .sum()\n",
    "  .plot(title=\"Drinks and Smashed Glasses over time for City Centre\", rot=45))"
   ]
  }
 ],
 "metadata": {
  "application/vnd.databricks.v1+notebook": {
   "dashboards": [],
   "language": "python",
   "notebookMetadata": {},
   "notebookName": "cheatsheet",
   "widgets": {}
  },
  "kernelspec": {
   "display_name": "Python 3",
   "language": "python",
   "name": "python3"
  },
  "language_info": {
   "codemirror_mode": {
    "name": "ipython",
    "version": 3
   },
   "file_extension": ".py",
   "mimetype": "text/x-python",
   "name": "python",
   "nbconvert_exporter": "python",
   "pygments_lexer": "ipython3",
   "version": "3.11.3"
  },
  "orig_nbformat": 4
 },
 "nbformat": 4,
 "nbformat_minor": 0
}
