{
 "cells": [
  {
   "cell_type": "code",
   "execution_count": 29,
   "metadata": {},
   "outputs": [
    {
     "name": "stdout",
     "output_type": "stream",
     "text": [
      "2.0.1\n"
     ]
    },
    {
     "data": {
      "text/html": [
       "<div>\n",
       "<style scoped>\n",
       "    .dataframe tbody tr th:only-of-type {\n",
       "        vertical-align: middle;\n",
       "    }\n",
       "\n",
       "    .dataframe tbody tr th {\n",
       "        vertical-align: top;\n",
       "    }\n",
       "\n",
       "    .dataframe thead th {\n",
       "        text-align: right;\n",
       "    }\n",
       "</style>\n",
       "<table border=\"1\" class=\"dataframe\">\n",
       "  <thead>\n",
       "    <tr style=\"text-align: right;\">\n",
       "      <th></th>\n",
       "      <th>brewer</th>\n",
       "      <th>beer</th>\n",
       "      <th>strength</th>\n",
       "    </tr>\n",
       "  </thead>\n",
       "  <tbody>\n",
       "    <tr>\n",
       "      <th>0</th>\n",
       "      <td>Crafty Devil</td>\n",
       "      <td>Mike Rayer</td>\n",
       "      <td>4.6</td>\n",
       "    </tr>\n",
       "    <tr>\n",
       "      <th>1</th>\n",
       "      <td>Tiny Rebel</td>\n",
       "      <td>Stay Puft</td>\n",
       "      <td>4.8</td>\n",
       "    </tr>\n",
       "    <tr>\n",
       "      <th>2</th>\n",
       "      <td>Flowerhorn</td>\n",
       "      <td>Sprinkles</td>\n",
       "      <td>5.2</td>\n",
       "    </tr>\n",
       "    <tr>\n",
       "      <th>3</th>\n",
       "      <td>Mad Dog</td>\n",
       "      <td>Barker</td>\n",
       "      <td>4.2</td>\n",
       "    </tr>\n",
       "  </tbody>\n",
       "</table>\n",
       "</div>"
      ],
      "text/plain": [
       "         brewer        beer  strength\n",
       "0  Crafty Devil  Mike Rayer       4.6\n",
       "1    Tiny Rebel   Stay Puft       4.8\n",
       "2    Flowerhorn   Sprinkles       5.2\n",
       "3       Mad Dog      Barker       4.2"
      ]
     },
     "execution_count": 29,
     "metadata": {},
     "output_type": "execute_result"
    }
   ],
   "source": [
    "import pandas as pd\n",
    "\n",
    "print(pd.__version__)\n",
    "\n",
    "data = [[\"Crafty Devil\",\"Mike Rayer\", 4.6]\n",
    "        , [\"Tiny Rebel\", \"Stay Puft\", 4.8]\n",
    "        , [\"Flowerhorn\", \"Sprinkles\", 5.2]\n",
    "        , [\"Mad Dog\", \"Barker\", 4.2]]\n",
    "column_names = [\"brewer\", \"beer\", \"strength\"]\n",
    "\n",
    "df = pd.DataFrame(data=data, columns=column_names)\n",
    "df"
   ]
  },
  {
   "cell_type": "code",
   "execution_count": 7,
   "metadata": {},
   "outputs": [
    {
     "data": {
      "text/plain": [
       "Brewer       object\n",
       "Beer         object\n",
       "Strength    float64\n",
       "dtype: object"
      ]
     },
     "execution_count": 7,
     "metadata": {},
     "output_type": "execute_result"
    }
   ],
   "source": [
    "df.dtypes"
   ]
  },
  {
   "cell_type": "code",
   "execution_count": 4,
   "metadata": {},
   "outputs": [
    {
     "data": {
      "text/html": [
       "<div>\n",
       "<style scoped>\n",
       "    .dataframe tbody tr th:only-of-type {\n",
       "        vertical-align: middle;\n",
       "    }\n",
       "\n",
       "    .dataframe tbody tr th {\n",
       "        vertical-align: top;\n",
       "    }\n",
       "\n",
       "    .dataframe thead th {\n",
       "        text-align: right;\n",
       "    }\n",
       "</style>\n",
       "<table border=\"1\" class=\"dataframe\">\n",
       "  <thead>\n",
       "    <tr style=\"text-align: right;\">\n",
       "      <th></th>\n",
       "      <th>Brewer</th>\n",
       "      <th>Beer</th>\n",
       "      <th>Strength</th>\n",
       "    </tr>\n",
       "  </thead>\n",
       "  <tbody>\n",
       "    <tr>\n",
       "      <th>0</th>\n",
       "      <td>Craft Devil</td>\n",
       "      <td>Mike Rayer</td>\n",
       "      <td>4.6</td>\n",
       "    </tr>\n",
       "    <tr>\n",
       "      <th>1</th>\n",
       "      <td>Tiny Rebel</td>\n",
       "      <td>Stay Puft</td>\n",
       "      <td>4.8</td>\n",
       "    </tr>\n",
       "  </tbody>\n",
       "</table>\n",
       "</div>"
      ],
      "text/plain": [
       "        Brewer        Beer  Strength\n",
       "0  Craft Devil  Mike Rayer       4.6\n",
       "1   Tiny Rebel   Stay Puft       4.8"
      ]
     },
     "execution_count": 4,
     "metadata": {},
     "output_type": "execute_result"
    }
   ],
   "source": [
    "df.head(2)"
   ]
  },
  {
   "cell_type": "code",
   "execution_count": 8,
   "metadata": {},
   "outputs": [
    {
     "data": {
      "text/html": [
       "<div>\n",
       "<style scoped>\n",
       "    .dataframe tbody tr th:only-of-type {\n",
       "        vertical-align: middle;\n",
       "    }\n",
       "\n",
       "    .dataframe tbody tr th {\n",
       "        vertical-align: top;\n",
       "    }\n",
       "\n",
       "    .dataframe thead th {\n",
       "        text-align: right;\n",
       "    }\n",
       "</style>\n",
       "<table border=\"1\" class=\"dataframe\">\n",
       "  <thead>\n",
       "    <tr style=\"text-align: right;\">\n",
       "      <th></th>\n",
       "      <th>Brewer</th>\n",
       "      <th>Beer</th>\n",
       "      <th>Strength</th>\n",
       "    </tr>\n",
       "  </thead>\n",
       "  <tbody>\n",
       "    <tr>\n",
       "      <th>2</th>\n",
       "      <td>Flowerhorn</td>\n",
       "      <td>Sprinkles</td>\n",
       "      <td>5.2</td>\n",
       "    </tr>\n",
       "    <tr>\n",
       "      <th>3</th>\n",
       "      <td>Mad Dog</td>\n",
       "      <td>Barker</td>\n",
       "      <td>4.2</td>\n",
       "    </tr>\n",
       "  </tbody>\n",
       "</table>\n",
       "</div>"
      ],
      "text/plain": [
       "       Brewer       Beer  Strength\n",
       "2  Flowerhorn  Sprinkles       5.2\n",
       "3     Mad Dog     Barker       4.2"
      ]
     },
     "execution_count": 8,
     "metadata": {},
     "output_type": "execute_result"
    }
   ],
   "source": [
    "df.tail(2)"
   ]
  },
  {
   "cell_type": "code",
   "execution_count": 10,
   "metadata": {},
   "outputs": [
    {
     "data": {
      "text/html": [
       "<div>\n",
       "<style scoped>\n",
       "    .dataframe tbody tr th:only-of-type {\n",
       "        vertical-align: middle;\n",
       "    }\n",
       "\n",
       "    .dataframe tbody tr th {\n",
       "        vertical-align: top;\n",
       "    }\n",
       "\n",
       "    .dataframe thead th {\n",
       "        text-align: right;\n",
       "    }\n",
       "</style>\n",
       "<table border=\"1\" class=\"dataframe\">\n",
       "  <thead>\n",
       "    <tr style=\"text-align: right;\">\n",
       "      <th></th>\n",
       "      <th>Brewer</th>\n",
       "      <th>Beer</th>\n",
       "    </tr>\n",
       "  </thead>\n",
       "  <tbody>\n",
       "    <tr>\n",
       "      <th>0</th>\n",
       "      <td>Craft Devil</td>\n",
       "      <td>Mike Rayer</td>\n",
       "    </tr>\n",
       "    <tr>\n",
       "      <th>1</th>\n",
       "      <td>Tiny Rebel</td>\n",
       "      <td>Stay Puft</td>\n",
       "    </tr>\n",
       "    <tr>\n",
       "      <th>2</th>\n",
       "      <td>Flowerhorn</td>\n",
       "      <td>Sprinkles</td>\n",
       "    </tr>\n",
       "    <tr>\n",
       "      <th>3</th>\n",
       "      <td>Mad Dog</td>\n",
       "      <td>Barker</td>\n",
       "    </tr>\n",
       "  </tbody>\n",
       "</table>\n",
       "</div>"
      ],
      "text/plain": [
       "        Brewer        Beer\n",
       "0  Craft Devil  Mike Rayer\n",
       "1   Tiny Rebel   Stay Puft\n",
       "2   Flowerhorn   Sprinkles\n",
       "3      Mad Dog      Barker"
      ]
     },
     "execution_count": 10,
     "metadata": {},
     "output_type": "execute_result"
    }
   ],
   "source": [
    "select_cols = [\"Brewer\",\"Beer\"]\n",
    "df[select_cols]"
   ]
  },
  {
   "cell_type": "code",
   "execution_count": 28,
   "metadata": {},
   "outputs": [
    {
     "data": {
      "text/plain": [
       "'Mike Rayer'"
      ]
     },
     "execution_count": 28,
     "metadata": {},
     "output_type": "execute_result"
    }
   ],
   "source": [
    "df[\"Beer\"][0]"
   ]
  },
  {
   "cell_type": "code",
   "execution_count": 31,
   "metadata": {},
   "outputs": [
    {
     "data": {
      "text/html": [
       "<div>\n",
       "<style scoped>\n",
       "    .dataframe tbody tr th:only-of-type {\n",
       "        vertical-align: middle;\n",
       "    }\n",
       "\n",
       "    .dataframe tbody tr th {\n",
       "        vertical-align: top;\n",
       "    }\n",
       "\n",
       "    .dataframe thead th {\n",
       "        text-align: right;\n",
       "    }\n",
       "</style>\n",
       "<table border=\"1\" class=\"dataframe\">\n",
       "  <thead>\n",
       "    <tr style=\"text-align: right;\">\n",
       "      <th></th>\n",
       "      <th>brewer</th>\n",
       "      <th>beer</th>\n",
       "      <th>strength</th>\n",
       "      <th>maximum_strength</th>\n",
       "    </tr>\n",
       "  </thead>\n",
       "  <tbody>\n",
       "    <tr>\n",
       "      <th>0</th>\n",
       "      <td>Crafty Devil</td>\n",
       "      <td>Mike Rayer</td>\n",
       "      <td>4.6</td>\n",
       "      <td>4.8</td>\n",
       "    </tr>\n",
       "    <tr>\n",
       "      <th>1</th>\n",
       "      <td>Tiny Rebel</td>\n",
       "      <td>Stay Puft</td>\n",
       "      <td>4.8</td>\n",
       "      <td>5.0</td>\n",
       "    </tr>\n",
       "    <tr>\n",
       "      <th>2</th>\n",
       "      <td>Flowerhorn</td>\n",
       "      <td>Sprinkles</td>\n",
       "      <td>5.2</td>\n",
       "      <td>5.4</td>\n",
       "    </tr>\n",
       "    <tr>\n",
       "      <th>3</th>\n",
       "      <td>Mad Dog</td>\n",
       "      <td>Barker</td>\n",
       "      <td>4.2</td>\n",
       "      <td>4.4</td>\n",
       "    </tr>\n",
       "  </tbody>\n",
       "</table>\n",
       "</div>"
      ],
      "text/plain": [
       "         brewer        beer  strength  maximum_strength\n",
       "0  Crafty Devil  Mike Rayer       4.6               4.8\n",
       "1    Tiny Rebel   Stay Puft       4.8               5.0\n",
       "2    Flowerhorn   Sprinkles       5.2               5.4\n",
       "3       Mad Dog      Barker       4.2               4.4"
      ]
     },
     "execution_count": 31,
     "metadata": {},
     "output_type": "execute_result"
    }
   ],
   "source": [
    "df[\"maximum_strength\"] = df[\"strength\"] + 0.2\n",
    "df"
   ]
  },
  {
   "cell_type": "code",
   "execution_count": 42,
   "metadata": {},
   "outputs": [
    {
     "name": "stdout",
     "output_type": "stream",
     "text": [
      " Volume in drive D is Data\n",
      " Volume Serial Number is CEC7-2CD7\n",
      "\n",
      " Directory of d:\\repos\\hungovercoders-blog\\cheatsheets\\Pandas\\data\n",
      "\n",
      "28/04/2023  14:48    <DIR>          .\n",
      "28/04/2023  14:48    <DIR>          ..\n",
      "28/04/2023  14:48               642 pubs.csv\n",
      "               1 File(s)            642 bytes\n",
      "               2 Dir(s)  369,952,940,032 bytes free\n"
     ]
    }
   ],
   "source": [
    "ls data"
   ]
  },
  {
   "cell_type": "code",
   "execution_count": 141,
   "metadata": {},
   "outputs": [
    {
     "data": {
      "text/html": [
       "<div>\n",
       "<style scoped>\n",
       "    .dataframe tbody tr th:only-of-type {\n",
       "        vertical-align: middle;\n",
       "    }\n",
       "\n",
       "    .dataframe tbody tr th {\n",
       "        vertical-align: top;\n",
       "    }\n",
       "\n",
       "    .dataframe thead th {\n",
       "        text-align: right;\n",
       "    }\n",
       "</style>\n",
       "<table border=\"1\" class=\"dataframe\">\n",
       "  <thead>\n",
       "    <tr style=\"text-align: right;\">\n",
       "      <th></th>\n",
       "      <th>Name</th>\n",
       "      <th>Location</th>\n",
       "      <th>Beers</th>\n",
       "      <th>LastUpdated</th>\n",
       "    </tr>\n",
       "  </thead>\n",
       "  <tbody>\n",
       "    <tr>\n",
       "      <th>0</th>\n",
       "      <td>The Claude</td>\n",
       "      <td>Roath</td>\n",
       "      <td>20</td>\n",
       "      <td>2023-04-01 00:00:00</td>\n",
       "    </tr>\n",
       "    <tr>\n",
       "      <th>1</th>\n",
       "      <td>The Flora</td>\n",
       "      <td>Cathays</td>\n",
       "      <td>20</td>\n",
       "      <td>2023-04-01 00:00:00</td>\n",
       "    </tr>\n",
       "    <tr>\n",
       "      <th>2</th>\n",
       "      <td>The Gower</td>\n",
       "      <td>Cathays</td>\n",
       "      <td>20</td>\n",
       "      <td>2023-04-01 00:00:00</td>\n",
       "    </tr>\n",
       "    <tr>\n",
       "      <th>3</th>\n",
       "      <td>The Mackintosh</td>\n",
       "      <td>Roath</td>\n",
       "      <td>20</td>\n",
       "      <td>2023-04-01 00:00:00</td>\n",
       "    </tr>\n",
       "    <tr>\n",
       "      <th>4</th>\n",
       "      <td>The Mochyn Du</td>\n",
       "      <td>Pontcanna</td>\n",
       "      <td>20</td>\n",
       "      <td>2023-04-01 00:00:00</td>\n",
       "    </tr>\n",
       "  </tbody>\n",
       "</table>\n",
       "</div>"
      ],
      "text/plain": [
       "             Name   Location  Beers          LastUpdated\n",
       "0      The Claude      Roath     20  2023-04-01 00:00:00\n",
       "1       The Flora    Cathays     20  2023-04-01 00:00:00\n",
       "2       The Gower    Cathays     20  2023-04-01 00:00:00\n",
       "3  The Mackintosh      Roath     20  2023-04-01 00:00:00\n",
       "4   The Mochyn Du  Pontcanna     20  2023-04-01 00:00:00"
      ]
     },
     "execution_count": 141,
     "metadata": {},
     "output_type": "execute_result"
    }
   ],
   "source": [
    "df = pd.read_csv(\"data/pubs/pubs_cardiff.csv\")\n",
    "df.head()"
   ]
  },
  {
   "cell_type": "code",
   "execution_count": 70,
   "metadata": {},
   "outputs": [
    {
     "data": {
      "text/plain": [
       "(21, 4)"
      ]
     },
     "execution_count": 70,
     "metadata": {},
     "output_type": "execute_result"
    }
   ],
   "source": [
    "df.shape"
   ]
  },
  {
   "cell_type": "code",
   "execution_count": 72,
   "metadata": {},
   "outputs": [
    {
     "data": {
      "text/plain": [
       "Index(['Name', 'Location', 'Beers', ' LastUpdated', 'LastUpdated'], dtype='object')"
      ]
     },
     "execution_count": 72,
     "metadata": {},
     "output_type": "execute_result"
    }
   ],
   "source": [
    "df.columns"
   ]
  },
  {
   "cell_type": "code",
   "execution_count": 59,
   "metadata": {},
   "outputs": [
    {
     "data": {
      "text/plain": [
       "Name         The ClaudeThe FloraThe GowerThe MackintoshThe ...\n",
       " Location     Roath Cathays Cathays Roath Pontcanna City Ce...\n",
       " Beers                                                     420\n",
       "dtype: object"
      ]
     },
     "execution_count": 59,
     "metadata": {},
     "output_type": "execute_result"
    }
   ],
   "source": [
    "df.sum()\n",
    "# df.min()\n",
    "# df.max()\n",
    "# df.count()\n",
    "# df.mean()\n",
    "# df.std()"
   ]
  },
  {
   "cell_type": "code",
   "execution_count": 58,
   "metadata": {},
   "outputs": [
    {
     "data": {
      "text/html": [
       "<div>\n",
       "<style scoped>\n",
       "    .dataframe tbody tr th:only-of-type {\n",
       "        vertical-align: middle;\n",
       "    }\n",
       "\n",
       "    .dataframe tbody tr th {\n",
       "        vertical-align: top;\n",
       "    }\n",
       "\n",
       "    .dataframe thead th {\n",
       "        text-align: right;\n",
       "    }\n",
       "</style>\n",
       "<table border=\"1\" class=\"dataframe\">\n",
       "  <thead>\n",
       "    <tr style=\"text-align: right;\">\n",
       "      <th></th>\n",
       "      <th>Beers</th>\n",
       "    </tr>\n",
       "  </thead>\n",
       "  <tbody>\n",
       "    <tr>\n",
       "      <th>count</th>\n",
       "      <td>21.0</td>\n",
       "    </tr>\n",
       "    <tr>\n",
       "      <th>mean</th>\n",
       "      <td>20.0</td>\n",
       "    </tr>\n",
       "    <tr>\n",
       "      <th>std</th>\n",
       "      <td>0.0</td>\n",
       "    </tr>\n",
       "    <tr>\n",
       "      <th>min</th>\n",
       "      <td>20.0</td>\n",
       "    </tr>\n",
       "    <tr>\n",
       "      <th>25%</th>\n",
       "      <td>20.0</td>\n",
       "    </tr>\n",
       "    <tr>\n",
       "      <th>50%</th>\n",
       "      <td>20.0</td>\n",
       "    </tr>\n",
       "    <tr>\n",
       "      <th>75%</th>\n",
       "      <td>20.0</td>\n",
       "    </tr>\n",
       "    <tr>\n",
       "      <th>max</th>\n",
       "      <td>20.0</td>\n",
       "    </tr>\n",
       "  </tbody>\n",
       "</table>\n",
       "</div>"
      ],
      "text/plain": [
       "        Beers\n",
       "count    21.0\n",
       "mean     20.0\n",
       "std       0.0\n",
       "min      20.0\n",
       "25%      20.0\n",
       "50%      20.0\n",
       "75%      20.0\n",
       "max      20.0"
      ]
     },
     "execution_count": 58,
     "metadata": {},
     "output_type": "execute_result"
    }
   ],
   "source": [
    "df.describe()"
   ]
  },
  {
   "cell_type": "code",
   "execution_count": 93,
   "metadata": {},
   "outputs": [
    {
     "data": {
      "text/plain": [
       "0    20\n",
       "1    20\n",
       "2    20\n",
       "3    20\n",
       "4    20\n",
       "Name: Beers, dtype: int64"
      ]
     },
     "execution_count": 93,
     "metadata": {},
     "output_type": "execute_result"
    }
   ],
   "source": [
    "df[\"Beers\"].head()"
   ]
  },
  {
   "cell_type": "code",
   "execution_count": 77,
   "metadata": {},
   "outputs": [
    {
     "data": {
      "text/plain": [
       "0    2023-04-01\n",
       "1    2023-04-01\n",
       "2    2023-04-01\n",
       "3    2023-04-01\n",
       "4    2023-04-01\n",
       "Name: LastViewed, dtype: object"
      ]
     },
     "execution_count": 77,
     "metadata": {},
     "output_type": "execute_result"
    }
   ],
   "source": [
    "import datetime\n",
    "\n",
    "df[\"LastViewed\"] = datetime.date(2023, 4, 1)\n",
    "df[\"LastViewed\"].head()"
   ]
  },
  {
   "cell_type": "code",
   "execution_count": 94,
   "metadata": {},
   "outputs": [
    {
     "data": {
      "text/html": [
       "<div>\n",
       "<style scoped>\n",
       "    .dataframe tbody tr th:only-of-type {\n",
       "        vertical-align: middle;\n",
       "    }\n",
       "\n",
       "    .dataframe tbody tr th {\n",
       "        vertical-align: top;\n",
       "    }\n",
       "\n",
       "    .dataframe thead th {\n",
       "        text-align: right;\n",
       "    }\n",
       "</style>\n",
       "<table border=\"1\" class=\"dataframe\">\n",
       "  <thead>\n",
       "    <tr style=\"text-align: right;\">\n",
       "      <th></th>\n",
       "      <th>Name</th>\n",
       "      <th>Location</th>\n",
       "      <th>Beers</th>\n",
       "    </tr>\n",
       "  </thead>\n",
       "  <tbody>\n",
       "    <tr>\n",
       "      <th>0</th>\n",
       "      <td>TheClaude</td>\n",
       "      <td>Roath</td>\n",
       "      <td>20</td>\n",
       "    </tr>\n",
       "    <tr>\n",
       "      <th>1</th>\n",
       "      <td>TheFlora</td>\n",
       "      <td>Cathays</td>\n",
       "      <td>20</td>\n",
       "    </tr>\n",
       "    <tr>\n",
       "      <th>2</th>\n",
       "      <td>TheGower</td>\n",
       "      <td>Cathays</td>\n",
       "      <td>20</td>\n",
       "    </tr>\n",
       "    <tr>\n",
       "      <th>3</th>\n",
       "      <td>TheMackintosh</td>\n",
       "      <td>Roath</td>\n",
       "      <td>20</td>\n",
       "    </tr>\n",
       "    <tr>\n",
       "      <th>4</th>\n",
       "      <td>TheMochynDu</td>\n",
       "      <td>Pontcanna</td>\n",
       "      <td>20</td>\n",
       "    </tr>\n",
       "    <tr>\n",
       "      <th>5</th>\n",
       "      <td>TheOldArcade</td>\n",
       "      <td>CityCentre</td>\n",
       "      <td>20</td>\n",
       "    </tr>\n",
       "  </tbody>\n",
       "</table>\n",
       "</div>"
      ],
      "text/plain": [
       "            Name    Location  Beers\n",
       "0      TheClaude       Roath     20\n",
       "1       TheFlora     Cathays     20\n",
       "2       TheGower     Cathays     20\n",
       "3  TheMackintosh       Roath     20\n",
       "4    TheMochynDu   Pontcanna     20\n",
       "5   TheOldArcade  CityCentre     20"
      ]
     },
     "execution_count": 94,
     "metadata": {},
     "output_type": "execute_result"
    }
   ],
   "source": [
    "df.loc[:5, [\"Name\", \"Location\", \"Beers\"]]"
   ]
  },
  {
   "cell_type": "code",
   "execution_count": 80,
   "metadata": {},
   "outputs": [
    {
     "data": {
      "text/plain": [
       "'The Claude'"
      ]
     },
     "execution_count": 80,
     "metadata": {},
     "output_type": "execute_result"
    }
   ],
   "source": [
    "df.iloc[0, 0]"
   ]
  },
  {
   "cell_type": "code",
   "execution_count": 96,
   "metadata": {},
   "outputs": [
    {
     "data": {
      "text/plain": [
       "Location\n",
       "City Centre    7\n",
       "Roath          3\n",
       "Cathays        3\n",
       "Pontcanna      2\n",
       "Cardiff Bay    1\n",
       "Canton         1\n",
       "Radyr          1\n",
       "Rhiwbina       1\n",
       "Leckwith       1\n",
       "Heath          1\n",
       "Name: count, dtype: int64"
      ]
     },
     "execution_count": 96,
     "metadata": {},
     "output_type": "execute_result"
    }
   ],
   "source": [
    "df[\"Location\"].value_counts()"
   ]
  },
  {
   "cell_type": "code",
   "execution_count": 85,
   "metadata": {},
   "outputs": [],
   "source": [
    "df = df.drop(\"LastViewed\", axis=1)"
   ]
  },
  {
   "cell_type": "code",
   "execution_count": 97,
   "metadata": {},
   "outputs": [
    {
     "data": {
      "text/html": [
       "<div>\n",
       "<style scoped>\n",
       "    .dataframe tbody tr th:only-of-type {\n",
       "        vertical-align: middle;\n",
       "    }\n",
       "\n",
       "    .dataframe tbody tr th {\n",
       "        vertical-align: top;\n",
       "    }\n",
       "\n",
       "    .dataframe thead th {\n",
       "        text-align: right;\n",
       "    }\n",
       "</style>\n",
       "<table border=\"1\" class=\"dataframe\">\n",
       "  <thead>\n",
       "    <tr style=\"text-align: right;\">\n",
       "      <th></th>\n",
       "      <th>Name</th>\n",
       "      <th>Location</th>\n",
       "      <th>Beers</th>\n",
       "      <th>LastUpdated</th>\n",
       "    </tr>\n",
       "  </thead>\n",
       "  <tbody>\n",
       "    <tr>\n",
       "      <th>20</th>\n",
       "      <td>The Three Arches</td>\n",
       "      <td>Heath</td>\n",
       "      <td>20</td>\n",
       "      <td>2023-04-01 00:00:00</td>\n",
       "    </tr>\n",
       "    <tr>\n",
       "      <th>19</th>\n",
       "      <td>The Sir Henry Morgan</td>\n",
       "      <td>City Centre</td>\n",
       "      <td>20</td>\n",
       "      <td>2023-04-01 00:00:00</td>\n",
       "    </tr>\n",
       "    <tr>\n",
       "      <th>18</th>\n",
       "      <td>The Sand Martin</td>\n",
       "      <td>Leckwith</td>\n",
       "      <td>20</td>\n",
       "      <td>2023-04-01 00:00:00</td>\n",
       "    </tr>\n",
       "    <tr>\n",
       "      <th>17</th>\n",
       "      <td>The Rummer Tavern</td>\n",
       "      <td>City Centre</td>\n",
       "      <td>20</td>\n",
       "      <td>2023-04-01 00:00:00</td>\n",
       "    </tr>\n",
       "    <tr>\n",
       "      <th>16</th>\n",
       "      <td>The Royal George</td>\n",
       "      <td>City Centre</td>\n",
       "      <td>20</td>\n",
       "      <td>2023-04-01 00:00:00</td>\n",
       "    </tr>\n",
       "    <tr>\n",
       "      <th>15</th>\n",
       "      <td>The Robin Hood</td>\n",
       "      <td>Pontcanna</td>\n",
       "      <td>20</td>\n",
       "      <td>2023-04-01 00:00:00</td>\n",
       "    </tr>\n",
       "    <tr>\n",
       "      <th>14</th>\n",
       "      <td>The Rhiwbina Recreation Club</td>\n",
       "      <td>Rhiwbina</td>\n",
       "      <td>20</td>\n",
       "      <td>2023-04-01 00:00:00</td>\n",
       "    </tr>\n",
       "    <tr>\n",
       "      <th>13</th>\n",
       "      <td>The Radyr Court</td>\n",
       "      <td>Radyr</td>\n",
       "      <td>20</td>\n",
       "      <td>2023-04-01 00:00:00</td>\n",
       "    </tr>\n",
       "    <tr>\n",
       "      <th>12</th>\n",
       "      <td>The Queens Vaults</td>\n",
       "      <td>City Centre</td>\n",
       "      <td>20</td>\n",
       "      <td>2023-04-01 00:00:00</td>\n",
       "    </tr>\n",
       "    <tr>\n",
       "      <th>11</th>\n",
       "      <td>The Prince of Wales</td>\n",
       "      <td>City Centre</td>\n",
       "      <td>20</td>\n",
       "      <td>2023-04-01 00:00:00</td>\n",
       "    </tr>\n",
       "    <tr>\n",
       "      <th>10</th>\n",
       "      <td>The Plum Tree</td>\n",
       "      <td>Canton</td>\n",
       "      <td>20</td>\n",
       "      <td>2023-04-01 00:00:00</td>\n",
       "    </tr>\n",
       "    <tr>\n",
       "      <th>9</th>\n",
       "      <td>The Philharmonic</td>\n",
       "      <td>City Centre</td>\n",
       "      <td>20</td>\n",
       "      <td>2023-04-01 00:00:00</td>\n",
       "    </tr>\n",
       "    <tr>\n",
       "      <th>8</th>\n",
       "      <td>The Pen &amp; Wig</td>\n",
       "      <td>Cathays</td>\n",
       "      <td>20</td>\n",
       "      <td>2023-04-01 00:00:00</td>\n",
       "    </tr>\n",
       "    <tr>\n",
       "      <th>7</th>\n",
       "      <td>The Pear Tree</td>\n",
       "      <td>Roath</td>\n",
       "      <td>20</td>\n",
       "      <td>2023-04-01 00:00:00</td>\n",
       "    </tr>\n",
       "    <tr>\n",
       "      <th>6</th>\n",
       "      <td>The Owain Glyndwr</td>\n",
       "      <td>Cardiff Bay</td>\n",
       "      <td>20</td>\n",
       "      <td>2023-04-01 00:00:00</td>\n",
       "    </tr>\n",
       "    <tr>\n",
       "      <th>5</th>\n",
       "      <td>The Old Arcade</td>\n",
       "      <td>City Centre</td>\n",
       "      <td>20</td>\n",
       "      <td>2023-04-01 00:00:00</td>\n",
       "    </tr>\n",
       "    <tr>\n",
       "      <th>4</th>\n",
       "      <td>The Mochyn Du</td>\n",
       "      <td>Pontcanna</td>\n",
       "      <td>20</td>\n",
       "      <td>2023-04-01 00:00:00</td>\n",
       "    </tr>\n",
       "    <tr>\n",
       "      <th>3</th>\n",
       "      <td>The Mackintosh</td>\n",
       "      <td>Roath</td>\n",
       "      <td>20</td>\n",
       "      <td>2023-04-01 00:00:00</td>\n",
       "    </tr>\n",
       "    <tr>\n",
       "      <th>2</th>\n",
       "      <td>The Gower</td>\n",
       "      <td>Cathays</td>\n",
       "      <td>20</td>\n",
       "      <td>2023-04-01 00:00:00</td>\n",
       "    </tr>\n",
       "    <tr>\n",
       "      <th>1</th>\n",
       "      <td>The Flora</td>\n",
       "      <td>Cathays</td>\n",
       "      <td>20</td>\n",
       "      <td>2023-04-01 00:00:00</td>\n",
       "    </tr>\n",
       "    <tr>\n",
       "      <th>0</th>\n",
       "      <td>The Claude</td>\n",
       "      <td>Roath</td>\n",
       "      <td>20</td>\n",
       "      <td>2023-04-01 00:00:00</td>\n",
       "    </tr>\n",
       "  </tbody>\n",
       "</table>\n",
       "</div>"
      ],
      "text/plain": [
       "                            Name     Location  Beers          LastUpdated\n",
       "20              The Three Arches        Heath     20  2023-04-01 00:00:00\n",
       "19          The Sir Henry Morgan  City Centre     20  2023-04-01 00:00:00\n",
       "18               The Sand Martin     Leckwith     20  2023-04-01 00:00:00\n",
       "17             The Rummer Tavern  City Centre     20  2023-04-01 00:00:00\n",
       "16              The Royal George  City Centre     20  2023-04-01 00:00:00\n",
       "15                The Robin Hood    Pontcanna     20  2023-04-01 00:00:00\n",
       "14  The Rhiwbina Recreation Club     Rhiwbina     20  2023-04-01 00:00:00\n",
       "13               The Radyr Court        Radyr     20  2023-04-01 00:00:00\n",
       "12             The Queens Vaults  City Centre     20  2023-04-01 00:00:00\n",
       "11           The Prince of Wales  City Centre     20  2023-04-01 00:00:00\n",
       "10                 The Plum Tree       Canton     20  2023-04-01 00:00:00\n",
       "9               The Philharmonic  City Centre     20  2023-04-01 00:00:00\n",
       "8                  The Pen & Wig      Cathays     20  2023-04-01 00:00:00\n",
       "7                  The Pear Tree        Roath     20  2023-04-01 00:00:00\n",
       "6              The Owain Glyndwr  Cardiff Bay     20  2023-04-01 00:00:00\n",
       "5                 The Old Arcade  City Centre     20  2023-04-01 00:00:00\n",
       "4                  The Mochyn Du    Pontcanna     20  2023-04-01 00:00:00\n",
       "3                 The Mackintosh        Roath     20  2023-04-01 00:00:00\n",
       "2                      The Gower      Cathays     20  2023-04-01 00:00:00\n",
       "1                      The Flora      Cathays     20  2023-04-01 00:00:00\n",
       "0                     The Claude        Roath     20  2023-04-01 00:00:00"
      ]
     },
     "execution_count": 97,
     "metadata": {},
     "output_type": "execute_result"
    }
   ],
   "source": [
    "df.sort_values(\"Name\", ascending=False)"
   ]
  },
  {
   "cell_type": "code",
   "execution_count": 98,
   "metadata": {},
   "outputs": [
    {
     "data": {
      "text/html": [
       "<div>\n",
       "<style scoped>\n",
       "    .dataframe tbody tr th:only-of-type {\n",
       "        vertical-align: middle;\n",
       "    }\n",
       "\n",
       "    .dataframe tbody tr th {\n",
       "        vertical-align: top;\n",
       "    }\n",
       "\n",
       "    .dataframe thead th {\n",
       "        text-align: right;\n",
       "    }\n",
       "</style>\n",
       "<table border=\"1\" class=\"dataframe\">\n",
       "  <thead>\n",
       "    <tr style=\"text-align: right;\">\n",
       "      <th></th>\n",
       "      <th>Name</th>\n",
       "      <th>Location</th>\n",
       "      <th>Beers</th>\n",
       "      <th>LastUpdated</th>\n",
       "    </tr>\n",
       "  </thead>\n",
       "  <tbody>\n",
       "    <tr>\n",
       "      <th>0</th>\n",
       "      <td>The Claude</td>\n",
       "      <td>Roath</td>\n",
       "      <td>20</td>\n",
       "      <td>2023-04-01 00:00:00</td>\n",
       "    </tr>\n",
       "    <tr>\n",
       "      <th>3</th>\n",
       "      <td>The Mackintosh</td>\n",
       "      <td>Roath</td>\n",
       "      <td>20</td>\n",
       "      <td>2023-04-01 00:00:00</td>\n",
       "    </tr>\n",
       "    <tr>\n",
       "      <th>7</th>\n",
       "      <td>The Pear Tree</td>\n",
       "      <td>Roath</td>\n",
       "      <td>20</td>\n",
       "      <td>2023-04-01 00:00:00</td>\n",
       "    </tr>\n",
       "  </tbody>\n",
       "</table>\n",
       "</div>"
      ],
      "text/plain": [
       "             Name Location  Beers          LastUpdated\n",
       "0      The Claude    Roath     20  2023-04-01 00:00:00\n",
       "3  The Mackintosh    Roath     20  2023-04-01 00:00:00\n",
       "7   The Pear Tree    Roath     20  2023-04-01 00:00:00"
      ]
     },
     "execution_count": 98,
     "metadata": {},
     "output_type": "execute_result"
    }
   ],
   "source": [
    "df[df[\"Location\"] == \"Roath\"]"
   ]
  },
  {
   "cell_type": "code",
   "execution_count": 100,
   "metadata": {},
   "outputs": [
    {
     "data": {
      "text/html": [
       "<div>\n",
       "<style scoped>\n",
       "    .dataframe tbody tr th:only-of-type {\n",
       "        vertical-align: middle;\n",
       "    }\n",
       "\n",
       "    .dataframe tbody tr th {\n",
       "        vertical-align: top;\n",
       "    }\n",
       "\n",
       "    .dataframe thead th {\n",
       "        text-align: right;\n",
       "    }\n",
       "</style>\n",
       "<table border=\"1\" class=\"dataframe\">\n",
       "  <thead>\n",
       "    <tr style=\"text-align: right;\">\n",
       "      <th></th>\n",
       "      <th>Name</th>\n",
       "      <th>Location</th>\n",
       "      <th>Beers</th>\n",
       "      <th>LastUpdated</th>\n",
       "    </tr>\n",
       "  </thead>\n",
       "  <tbody>\n",
       "    <tr>\n",
       "      <th>0</th>\n",
       "      <td>The Claude</td>\n",
       "      <td>Roath</td>\n",
       "      <td>20</td>\n",
       "      <td>2023-04-01 00:00:00</td>\n",
       "    </tr>\n",
       "    <tr>\n",
       "      <th>3</th>\n",
       "      <td>The Mackintosh</td>\n",
       "      <td>Roath</td>\n",
       "      <td>20</td>\n",
       "      <td>2023-04-01 00:00:00</td>\n",
       "    </tr>\n",
       "    <tr>\n",
       "      <th>7</th>\n",
       "      <td>The Pear Tree</td>\n",
       "      <td>Roath</td>\n",
       "      <td>20</td>\n",
       "      <td>2023-04-01 00:00:00</td>\n",
       "    </tr>\n",
       "  </tbody>\n",
       "</table>\n",
       "</div>"
      ],
      "text/plain": [
       "             Name Location  Beers          LastUpdated\n",
       "0      The Claude    Roath     20  2023-04-01 00:00:00\n",
       "3  The Mackintosh    Roath     20  2023-04-01 00:00:00\n",
       "7   The Pear Tree    Roath     20  2023-04-01 00:00:00"
      ]
     },
     "execution_count": 100,
     "metadata": {},
     "output_type": "execute_result"
    }
   ],
   "source": [
    "df[(df[\"Location\"] == \"Roath\") & (df[\"Beers\"] > 5)]"
   ]
  },
  {
   "cell_type": "code",
   "execution_count": 102,
   "metadata": {},
   "outputs": [
    {
     "data": {
      "text/plain": [
       "Location\n",
       "City Centre    7\n",
       "Cathays        3\n",
       "Roath          3\n",
       "Pontcanna      2\n",
       "Canton         1\n",
       "Cardiff Bay    1\n",
       "Heath          1\n",
       "Leckwith       1\n",
       "Radyr          1\n",
       "Rhiwbina       1\n",
       "Name: Name, dtype: int64"
      ]
     },
     "execution_count": 102,
     "metadata": {},
     "output_type": "execute_result"
    }
   ],
   "source": [
    "df.groupby(\"Location\")[\"Name\"].count().sort_values(ascending=False)"
   ]
  },
  {
   "cell_type": "code",
   "execution_count": 103,
   "metadata": {},
   "outputs": [
    {
     "data": {
      "text/plain": [
       "Name\n",
       "The Old Arcade          20\n",
       "The Philharmonic        20\n",
       "The Prince of Wales     20\n",
       "The Queens Vaults       20\n",
       "The Royal George        20\n",
       "The Rummer Tavern       20\n",
       "The Sir Henry Morgan    20\n",
       "Name: Beers, dtype: int64"
      ]
     },
     "execution_count": 103,
     "metadata": {},
     "output_type": "execute_result"
    }
   ],
   "source": [
    "df[df[\"Location\"] == \"City Centre\"].groupby(\"Name\")[\"Beers\"].sum().sort_values(ascending=False)"
   ]
  },
  {
   "cell_type": "code",
   "execution_count": 105,
   "metadata": {},
   "outputs": [
    {
     "data": {
      "text/plain": [
       "Name           0\n",
       "Location       1\n",
       "Beers          0\n",
       "LastUpdated    0\n",
       "dtype: int64"
      ]
     },
     "execution_count": 105,
     "metadata": {},
     "output_type": "execute_result"
    }
   ],
   "source": [
    "df.isnull().sum()"
   ]
  },
  {
   "cell_type": "code",
   "execution_count": 106,
   "metadata": {},
   "outputs": [
    {
     "data": {
      "text/plain": [
       "(11,)"
      ]
     },
     "execution_count": 106,
     "metadata": {},
     "output_type": "execute_result"
    }
   ],
   "source": [
    "df[\"Location\"].unique().shape"
   ]
  },
  {
   "cell_type": "code",
   "execution_count": null,
   "metadata": {},
   "outputs": [],
   "source": [
    "df[\"Location\"].drop_duplicates()"
   ]
  },
  {
   "cell_type": "code",
   "execution_count": 109,
   "metadata": {},
   "outputs": [
    {
     "data": {
      "text/html": [
       "<div>\n",
       "<style scoped>\n",
       "    .dataframe tbody tr th:only-of-type {\n",
       "        vertical-align: middle;\n",
       "    }\n",
       "\n",
       "    .dataframe tbody tr th {\n",
       "        vertical-align: top;\n",
       "    }\n",
       "\n",
       "    .dataframe thead th {\n",
       "        text-align: right;\n",
       "    }\n",
       "</style>\n",
       "<table border=\"1\" class=\"dataframe\">\n",
       "  <thead>\n",
       "    <tr style=\"text-align: right;\">\n",
       "      <th></th>\n",
       "      <th>Name</th>\n",
       "      <th>Location</th>\n",
       "      <th>Beers</th>\n",
       "      <th>LastUpdated</th>\n",
       "    </tr>\n",
       "  </thead>\n",
       "  <tbody>\n",
       "    <tr>\n",
       "      <th>19</th>\n",
       "      <td>The Sir Henry Morgan</td>\n",
       "      <td>City Centre</td>\n",
       "      <td>20</td>\n",
       "      <td>2023-04-01 00:00:00</td>\n",
       "    </tr>\n",
       "    <tr>\n",
       "      <th>20</th>\n",
       "      <td>The Three Arches</td>\n",
       "      <td>Heath</td>\n",
       "      <td>20</td>\n",
       "      <td>2023-04-01 00:00:00</td>\n",
       "    </tr>\n",
       "    <tr>\n",
       "      <th>21</th>\n",
       "      <td>The Three Brewers</td>\n",
       "      <td>(missing data)</td>\n",
       "      <td>20</td>\n",
       "      <td>2023-04-01 00:00:00</td>\n",
       "    </tr>\n",
       "  </tbody>\n",
       "</table>\n",
       "</div>"
      ],
      "text/plain": [
       "                    Name        Location  Beers          LastUpdated\n",
       "19  The Sir Henry Morgan     City Centre     20  2023-04-01 00:00:00\n",
       "20      The Three Arches           Heath     20  2023-04-01 00:00:00\n",
       "21     The Three Brewers  (missing data)     20  2023-04-01 00:00:00"
      ]
     },
     "execution_count": 109,
     "metadata": {},
     "output_type": "execute_result"
    }
   ],
   "source": [
    "df.fillna(\"(missing data)\").tail(3)"
   ]
  },
  {
   "cell_type": "code",
   "execution_count": 115,
   "metadata": {},
   "outputs": [],
   "source": [
    "subset_df = df[df[\"Location\"] == \"City Centre\"]"
   ]
  },
  {
   "cell_type": "code",
   "execution_count": 116,
   "metadata": {},
   "outputs": [
    {
     "data": {
      "text/plain": [
       "<Axes: >"
      ]
     },
     "execution_count": 116,
     "metadata": {},
     "output_type": "execute_result"
    },
    {
     "data": {
      "image/png": "[encoded data removed]",
      "text/plain": [
       "<Figure size 640x480 with 1 Axes>"
      ]
     },
     "metadata": {},
     "output_type": "display_data"
    }
   ],
   "source": [
    "subset_df.groupby(\"Name\")[\"Beers\"].sum().hist()"
   ]
  },
  {
   "cell_type": "code",
   "execution_count": 117,
   "metadata": {},
   "outputs": [
    {
     "data": {
      "text/plain": [
       "<Axes: >"
      ]
     },
     "execution_count": 117,
     "metadata": {},
     "output_type": "execute_result"
    },
    {
     "data": {
      "image/png": "[encoded data removed]",
      "text/plain": [
       "<Figure size 640x480 with 1 Axes>"
      ]
     },
     "metadata": {},
     "output_type": "display_data"
    }
   ],
   "source": [
    "subset_df.groupby(\"Name\")[\"Beers\"].sum().hist(bins=30)"
   ]
  },
  {
   "cell_type": "code",
   "execution_count": 118,
   "metadata": {},
   "outputs": [
    {
     "data": {
      "text/plain": [
       "<Axes: xlabel='Beers', ylabel='Beers'>"
      ]
     },
     "execution_count": 118,
     "metadata": {},
     "output_type": "execute_result"
    },
    {
     "data": {
      "image/png": "[encoded data removed]",
      "text/plain": [
       "<Figure size 640x480 with 1 Axes>"
      ]
     },
     "metadata": {},
     "output_type": "display_data"
    }
   ],
   "source": [
    "subset_df.plot.scatter(x=\"Beers\", y=\"Beers\")"
   ]
  },
  {
   "cell_type": "code",
   "execution_count": 119,
   "metadata": {},
   "outputs": [
    {
     "data": {
      "text/plain": [
       "<Axes: xlabel='Beers', ylabel='Beers'>"
      ]
     },
     "execution_count": 119,
     "metadata": {},
     "output_type": "execute_result"
    },
    {
     "data": {
      "image/png": "[encoded data removed]",
      "text/plain": [
       "<Figure size 640x480 with 1 Axes>"
      ]
     },
     "metadata": {},
     "output_type": "display_data"
    }
   ],
   "source": [
    "subset_df[subset_df[\"Beers\"] < 25].plot.scatter(x=\"Beers\", y=\"Beers\")"
   ]
  },
  {
   "cell_type": "code",
   "execution_count": 159,
   "metadata": {},
   "outputs": [
    {
     "data": {
      "text/html": [
       "<div>\n",
       "<style scoped>\n",
       "    .dataframe tbody tr th:only-of-type {\n",
       "        vertical-align: middle;\n",
       "    }\n",
       "\n",
       "    .dataframe tbody tr th {\n",
       "        vertical-align: top;\n",
       "    }\n",
       "\n",
       "    .dataframe thead th {\n",
       "        text-align: right;\n",
       "    }\n",
       "</style>\n",
       "<table border=\"1\" class=\"dataframe\">\n",
       "  <thead>\n",
       "    <tr style=\"text-align: right;\">\n",
       "      <th></th>\n",
       "      <th>Pub</th>\n",
       "      <th>Location</th>\n",
       "      <th>Drinks</th>\n",
       "      <th>SmashedGlasses</th>\n",
       "      <th>Date</th>\n",
       "    </tr>\n",
       "  </thead>\n",
       "  <tbody>\n",
       "    <tr>\n",
       "      <th>0</th>\n",
       "      <td>The Claude</td>\n",
       "      <td>Roath</td>\n",
       "      <td>50</td>\n",
       "      <td>2</td>\n",
       "      <td>2023-04-26</td>\n",
       "    </tr>\n",
       "    <tr>\n",
       "      <th>1</th>\n",
       "      <td>The Flora</td>\n",
       "      <td>Cathays</td>\n",
       "      <td>30</td>\n",
       "      <td>1</td>\n",
       "      <td>2023-04-26</td>\n",
       "    </tr>\n",
       "    <tr>\n",
       "      <th>2</th>\n",
       "      <td>The Gower</td>\n",
       "      <td>Cathays</td>\n",
       "      <td>24</td>\n",
       "      <td>2</td>\n",
       "      <td>2023-04-26</td>\n",
       "    </tr>\n",
       "    <tr>\n",
       "      <th>3</th>\n",
       "      <td>The Mackintosh</td>\n",
       "      <td>Roath</td>\n",
       "      <td>10</td>\n",
       "      <td>0</td>\n",
       "      <td>2023-04-26</td>\n",
       "    </tr>\n",
       "    <tr>\n",
       "      <th>4</th>\n",
       "      <td>The Mochyn Du</td>\n",
       "      <td>Pontcanna</td>\n",
       "      <td>15</td>\n",
       "      <td>0</td>\n",
       "      <td>2023-04-26</td>\n",
       "    </tr>\n",
       "  </tbody>\n",
       "</table>\n",
       "</div>"
      ],
      "text/plain": [
       "              Pub   Location  Drinks  SmashedGlasses        Date\n",
       "0      The Claude      Roath      50               2  2023-04-26\n",
       "1       The Flora    Cathays      30               1  2023-04-26\n",
       "2       The Gower    Cathays      24               2  2023-04-26\n",
       "3  The Mackintosh      Roath      10               0  2023-04-26\n",
       "4   The Mochyn Du  Pontcanna      15               0  2023-04-26"
      ]
     },
     "execution_count": 159,
     "metadata": {},
     "output_type": "execute_result"
    }
   ],
   "source": [
    "import glob\n",
    "import datetime\n",
    "\n",
    "path = \"data/drinks\"\n",
    "all_files = glob.glob(path + \"/*.csv\")\n",
    "\n",
    "dfs = []\n",
    "\n",
    "for filename in all_files:\n",
    "  temp_df = pd.read_csv(filename)\n",
    "  temp_df.columns = [c.replace(\"/\", \"_\") for c in temp_df.columns]\n",
    "  temp_df.columns = [c.replace(\" \", \"_\") for c in temp_df.columns]\n",
    "  \n",
    "  file_date = filename.split(\"/\")[-1].replace(\".csv\", \"\").split(\"_\")[-1]\n",
    "  year, month, day = file_date[:4], file_date[4:6], file_date[-2:]\n",
    "  d = datetime.date(int(year), int(month), int(day))\n",
    "  temp_df[\"Date\"] = d\n",
    "\n",
    "  dfs.append(temp_df)\n",
    "  \n",
    "all_days_df = pd.concat(dfs, axis=0, ignore_index=True, sort=False)\n",
    "##all_days_df = all_days_df.drop([\"LastUpdated\"], axis=1)\n",
    "all_days_df.head()"
   ]
  },
  {
   "cell_type": "code",
   "execution_count": 160,
   "metadata": {},
   "outputs": [
    {
     "data": {
      "text/plain": [
       "<Axes: title={'center': 'Drinks drunk over time'}, xlabel='Date'>"
      ]
     },
     "execution_count": 160,
     "metadata": {},
     "output_type": "execute_result"
    },
    {
     "data": {
      "image/png": "[encoded data removed]",
      "text/plain": [
       "<Figure size 640x480 with 1 Axes>"
      ]
     },
     "metadata": {},
     "output_type": "display_data"
    }
   ],
   "source": [
    "all_days_df.groupby(\"Date\")[\"SmashedGlasses\"].sum().plot(title=\"Drinks drunk over time\", rot=45)"
   ]
  },
  {
   "cell_type": "code",
   "execution_count": 161,
   "metadata": {},
   "outputs": [
    {
     "data": {
      "text/plain": [
       "<Axes: title={'center': 'Drinks drank and glasses smashed'}, xlabel='Date'>"
      ]
     },
     "execution_count": 161,
     "metadata": {},
     "output_type": "execute_result"
    },
    {
     "data": {
      "image/png": "[encoded data removed]",
      "text/plain": [
       "<Figure size 640x480 with 1 Axes>"
      ]
     },
     "metadata": {},
     "output_type": "display_data"
    }
   ],
   "source": [
    "all_days_df.groupby(\"Date\")[[\"Drinks\", \"SmashedGlasses\"]].sum().plot(title=\"Drinks drank and glasses smashed\", rot=45)"
   ]
  },
  {
   "cell_type": "code",
   "execution_count": 165,
   "metadata": {},
   "outputs": [
    {
     "data": {
      "text/plain": [
       "<Axes: title={'center': 'Drinks and Smashed Glasses over time for City Centre'}, xlabel='Date'>"
      ]
     },
     "execution_count": 165,
     "metadata": {},
     "output_type": "execute_result"
    },
    {
     "data": {
      "image/png": "[encoded data removed]",
      "text/plain": [
       "<Figure size 640x480 with 1 Axes>"
      ]
     },
     "metadata": {},
     "output_type": "display_data"
    }
   ],
   "source": [
    "(all_days_df[(all_days_df[\"Location\"] == \"City Centre\") & (all_days_df[\"Date\"] >= datetime.date(2023,4,27))]\n",
    "  .groupby(\"Date\")[[\"Drinks\", \"SmashedGlasses\"]]\n",
    "  .sum()\n",
    "  .plot(title=\"Drinks and Smashed Glasses over time for City Centre\", rot=45))"
   ]
  }
 ],
 "metadata": {
  "kernelspec": {
   "display_name": "Python 3",
   "language": "python",
   "name": "python3"
  },
  "language_info": {
   "codemirror_mode": {
    "name": "ipython",
    "version": 3
   },
   "file_extension": ".py",
   "mimetype": "text/x-python",
   "name": "python",
   "nbconvert_exporter": "python",
   "pygments_lexer": "ipython3",
   "version": "3.11.3"
  },
  "orig_nbformat": 4
 },
 "nbformat": 4,
 "nbformat_minor": 2
}
